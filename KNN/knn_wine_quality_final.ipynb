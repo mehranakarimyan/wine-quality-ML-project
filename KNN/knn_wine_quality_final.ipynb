{
 "cells": [
  {
   "cell_type": "markdown",
   "id": "a85f46c3",
   "metadata": {},
   "source": [
    "# 🍷 KNN Classifier for Wine Quality Prediction\n",
    "An end-to-end implementation with data preprocessing, hyperparameter tuning, and prediction."
   ]
  },
  {
   "cell_type": "markdown",
   "id": "5739631c",
   "metadata": {},
   "source": [
    "##  Import Required Libraries"
   ]
  },
  {
   "cell_type": "code",
   "execution_count": null,
   "id": "a59959ad",
   "metadata": {},
   "outputs": [],
   "source": [
    "import pandas as pd\n",
    "import numpy as np\n",
    "import os\n",
    "from sklearn.neighbors import KNeighborsClassifier\n",
    "from sklearn.metrics import accuracy_score\n",
    "from sklearn.preprocessing import MinMaxScaler\n",
    "from sklearn.model_selection import train_test_split, GridSearchCV"
   ]
  },
  {
   "cell_type": "markdown",
   "id": "6a66e107",
   "metadata": {},
   "source": [
    "##  Load and Explore the Dataset"
   ]
  },
  {
   "cell_type": "code",
   "execution_count": null,
   "id": "4941b53b",
   "metadata": {},
   "outputs": [],
   "source": [
    "if not os.path.exists('winequality-red-sorted.csv'):\n",
    "    raise FileNotFoundError(\"Dataset 'winequality-red-sorted.csv' not found in the current directory.\")\n",
    "\n",
    "data_frame = pd.read_csv('winequality-red-sorted.csv')\n",
    "print(data_frame.head())\n",
    "print(\"\\nData shape:\", data_frame.shape)"
   ]
  },
  {
   "cell_type": "markdown",
   "id": "e024c318",
   "metadata": {},
   "source": [
    "##  Split Data into Features (X) and Target (y)"
   ]
  },
  {
   "cell_type": "code",
   "execution_count": null,
   "id": "ed8e75bf",
   "metadata": {},
   "outputs": [],
   "source": [
    "X = data_frame.iloc[:, :-1]\n",
    "y = data_frame.iloc[:, -1]"
   ]
  },
  {
   "cell_type": "markdown",
   "id": "6c9dc238",
   "metadata": {},
   "source": [
    "##  Normalize the Feature Values Using MinMaxScaler"
   ]
  },
  {
   "cell_type": "code",
   "execution_count": null,
   "id": "6b09e75f",
   "metadata": {},
   "outputs": [],
   "source": [
    "scaler = MinMaxScaler()\n",
    "X_scaled = scaler.fit_transform(X)\n",
    "print(X_scaled[:5])"
   ]
  },
  {
   "cell_type": "markdown",
   "id": "e35b1d02",
   "metadata": {},
   "source": [
    "##  Split the Data into Training and Testing Sets"
   ]
  },
  {
   "cell_type": "code",
   "execution_count": null,
   "id": "b316bd48",
   "metadata": {},
   "outputs": [],
   "source": [
    "X_train, X_test, y_train, y_test = train_test_split(X_scaled, y, test_size=0.25, random_state=0)"
   ]
  },
  {
   "cell_type": "markdown",
   "id": "2acf810e",
   "metadata": {},
   "source": [
    "##  Define the Hyperparameter Grid for GridSearchCV"
   ]
  },
  {
   "cell_type": "code",
   "execution_count": null,
   "id": "2153121d",
   "metadata": {},
   "outputs": [],
   "source": [
    "param_grid = {'n_neighbors': [3, 5, 7, 9, 11], 'weights': ['uniform', 'distance']}"
   ]
  },
  {
   "cell_type": "markdown",
   "id": "d708c1b4",
   "metadata": {},
   "source": [
    "##  Perform Hyperparameter Tuning Using GridSearchCV"
   ]
  },
  {
   "cell_type": "code",
   "execution_count": null,
   "id": "5da88213",
   "metadata": {},
   "outputs": [],
   "source": [
    "grid_search = GridSearchCV(KNeighborsClassifier(), param_grid, cv=5, scoring='accuracy')\n",
    "grid_search.fit(X_train, y_train)"
   ]
  },
  {
   "cell_type": "markdown",
   "id": "6d710ff3",
   "metadata": {},
   "source": [
    "##  View All Hyperparameter Tuning Results"
   ]
  },
  {
   "cell_type": "code",
   "execution_count": null,
   "id": "5f1abd5f",
   "metadata": {},
   "outputs": [],
   "source": [
    "results_df = pd.DataFrame(grid_search.cv_results_)\n",
    "print(results_df[['param_n_neighbors', 'param_weights', 'mean_test_score']])"
   ]
  },
  {
   "cell_type": "markdown",
   "id": "076ddd2b",
   "metadata": {},
   "source": [
    "##  Select the Best Performing Model"
   ]
  },
  {
   "cell_type": "code",
   "execution_count": null,
   "id": "efac3668",
   "metadata": {},
   "outputs": [],
   "source": [
    "best_model = grid_search.best_estimator_\n",
    "print(\"Best Parameters:\", grid_search.best_params_)"
   ]
  },
  {
   "cell_type": "markdown",
   "id": "1d4eb750",
   "metadata": {},
   "source": [
    "##  Evaluate the Accuracy of the Best Model on the Test Set"
   ]
  },
  {
   "cell_type": "code",
   "execution_count": null,
   "id": "ff872898",
   "metadata": {},
   "outputs": [],
   "source": [
    "y_prediction = best_model.predict(X_test)\n",
    "accuracy = accuracy_score(y_test, y_prediction)\n",
    "print(\"Test Set Accuracy:\", accuracy)"
   ]
  },
  {
   "cell_type": "markdown",
   "id": "24a4859c",
   "metadata": {},
   "source": [
    "##  Make Predictions on New Data Using the Best Model"
   ]
  },
  {
   "cell_type": "code",
   "execution_count": null,
   "id": "70a3c4ec",
   "metadata": {},
   "outputs": [],
   "source": [
    "new_data = [[7.4, 0.66, 0, 1.8, 0.075, 13, 40, 0.9978, 3.51, 0.56, 9.4]]\n",
    "new_data_scaled = scaler.transform(new_data)\n",
    "prediction = best_model.predict(new_data_scaled)\n",
    "print(\"Predicted wine quality for new sample:\", prediction[0])"
   ]
  }
 ],
 "metadata": {
  "language_info": {
   "name": "python"
  }
 },
 "nbformat": 4,
 "nbformat_minor": 5
}
